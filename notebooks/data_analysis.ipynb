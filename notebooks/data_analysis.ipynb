{
 "cells": [
  {
   "cell_type": "markdown",
   "id": "d8ab3ea9",
   "metadata": {},
   "source": [
    "# TASK 1: Data Analysis and Preprocessing"
   ]
  }
 ],
 "metadata": {
  "kernelspec": {
   "display_name": ".venv",
   "language": "python",
   "name": "python3"
  },
  "language_info": {
   "name": "python",
   "version": "3.13.3"
  }
 },
 "nbformat": 4,
 "nbformat_minor": 5
}
