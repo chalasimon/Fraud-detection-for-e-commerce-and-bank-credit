{
 "cells": [
  {
   "cell_type": "markdown",
   "id": "d8ab3ea9",
   "metadata": {},
   "source": [
    "# TASK 1: Data Analysis and Preprocessing"
   ]
  },
  {
   "cell_type": "code",
   "execution_count": 1,
   "id": "bfaffb19",
   "metadata": {},
   "outputs": [],
   "source": [
    "# Importing the necessary libraries\n",
    "import os\n",
    "import sys\n",
    "import pandas as pd\n",
    "from glob import glob\n",
    "from pathlib import Path"
   ]
  },
  {
   "cell_type": "code",
   "execution_count": 2,
   "id": "3c4fcce0",
   "metadata": {},
   "outputs": [],
   "source": [
    "# add the project root to the python path\n",
    "project_root =  Path(\"..\").resolve()\n",
    "if str(project_root) not in sys.path:\n",
    "    sys.path.insert(0, str(project_root))"
   ]
  },
  {
   "cell_type": "markdown",
   "id": "b3863ddb",
   "metadata": {},
   "source": [
    "### Loading the Dataset"
   ]
  },
  {
   "cell_type": "code",
   "execution_count": 15,
   "id": "bad71085",
   "metadata": {},
   "outputs": [
    {
     "data": {
      "text/plain": [
       "<module 'src.utils.data_loader' from 'D:\\\\Research & Project\\\\10academy\\\\week 8\\\\challenge\\\\Fraud-detection-for-e-commerce-and-bank-credit\\\\src\\\\utils\\\\data_loader.py'>"
      ]
     },
     "execution_count": 15,
     "metadata": {},
     "output_type": "execute_result"
    }
   ],
   "source": [
    "# import functions from the utils module\n",
    "from src.utils.data_loader import load_data\n",
    "from importlib import reload\n",
    "import src.utils.data_loader\n",
    "reload(src.utils.data_loader)"
   ]
  },
  {
   "cell_type": "code",
   "execution_count": 18,
   "id": "d3841a3f",
   "metadata": {},
   "outputs": [],
   "source": [
    "raw_data_path = \"../data/raw/Fraud_Data.csv\"\n",
    "df = load_data(raw_data_path)"
   ]
  },
  {
   "cell_type": "code",
   "execution_count": 21,
   "id": "c3f6b3b5",
   "metadata": {},
   "outputs": [
    {
     "name": "stdout",
     "output_type": "stream",
     "text": [
      "--------------------------------------------------\n",
      "Data shape: (151112, 11)\n",
      "--------------------------------------------------\n",
      "Data types:\n",
      "user_id             int64\n",
      "signup_time        object\n",
      "purchase_time      object\n",
      "purchase_value      int64\n",
      "device_id          object\n",
      "source             object\n",
      "browser            object\n",
      "sex                object\n",
      "age                 int64\n",
      "ip_address        float64\n",
      "class               int64\n",
      "dtype: object\n",
      "--------------------------------------------------\n",
      "First few rows:\n",
      "   user_id          signup_time        purchase_time  purchase_value  \\\n",
      "0    22058  2015-02-24 22:55:49  2015-04-18 02:47:11              34   \n",
      "1   333320  2015-06-07 20:39:50  2015-06-08 01:38:54              16   \n",
      "2     1359  2015-01-01 18:52:44  2015-01-01 18:52:45              15   \n",
      "3   150084  2015-04-28 21:13:25  2015-05-04 13:54:50              44   \n",
      "4   221365  2015-07-21 07:09:52  2015-09-09 18:40:53              39   \n",
      "\n",
      "       device_id source browser sex  age    ip_address  class  \n",
      "0  QVPSPJUOCKZAR    SEO  Chrome   M   39  7.327584e+08      0  \n",
      "1  EOGFQPIZPYXFZ    Ads  Chrome   F   53  3.503114e+08      0  \n",
      "2  YSSKYOSJHPPLJ    SEO   Opera   M   53  2.621474e+09      1  \n",
      "3  ATGTXKYKUDUQN    SEO  Safari   M   41  3.840542e+09      0  \n",
      "4  NAUITBZFJKHWW    Ads  Safari   M   45  4.155831e+08      0  \n"
     ]
    }
   ],
   "source": [
    "print(50*\"-\")\n",
    "# check data shape\n",
    "print(f\"Data shape: {df.shape}\")\n",
    "print(50*\"-\")\n",
    "# check data types\n",
    "print(f\"Data types:\\n{df.dtypes}\")\n",
    "print(50*\"-\")\n",
    "# check first few rows\n",
    "print(f\"First few rows:\\n{df.head()}\")"
   ]
  },
  {
   "cell_type": "markdown",
   "id": "e89ae254",
   "metadata": {},
   "source": [
    "### Identifying and Handling Missing Values"
   ]
  },
  {
   "cell_type": "code",
   "execution_count": 68,
   "id": "58f7a2a8",
   "metadata": {},
   "outputs": [
    {
     "data": {
      "text/plain": [
       "<module 'src.data_preprocessing.Preprocessor' from 'D:\\\\Research & Project\\\\10academy\\\\week 8\\\\challenge\\\\Fraud-detection-for-e-commerce-and-bank-credit\\\\src\\\\data_preprocessing\\\\Preprocessor.py'>"
      ]
     },
     "execution_count": 68,
     "metadata": {},
     "output_type": "execute_result"
    }
   ],
   "source": [
    "# import the modules\n",
    "from src.data_preprocessing.Preprocessor import Preprocessor\n",
    "import src.data_preprocessing.Preprocessor\n",
    "# reload the module to ensure the latest changes are reflected\n",
    "reload(src.data_preprocessing.Preprocessor) "
   ]
  },
  {
   "cell_type": "code",
   "execution_count": 69,
   "id": "5231f24b",
   "metadata": {},
   "outputs": [],
   "source": [
    "# initialize the preprocessor\n",
    "preprocessor = Preprocessor(df)"
   ]
  },
  {
   "cell_type": "code",
   "execution_count": 71,
   "id": "445ea354",
   "metadata": {},
   "outputs": [
    {
     "name": "stdout",
     "output_type": "stream",
     "text": [
      "--------------------------------------------------\n",
      "Missing values:\n",
      "Series([], dtype: int64)\n"
     ]
    }
   ],
   "source": [
    "# identifying the missing values\n",
    "print(50*\"-\")\n",
    "missing_values=preprocessor.identify_missing_values()\n",
    "print(f\"Missing values:\\n{missing_values}\")"
   ]
  },
  {
   "cell_type": "code",
   "execution_count": 72,
   "id": "19be137a",
   "metadata": {},
   "outputs": [
    {
     "name": "stdout",
     "output_type": "stream",
     "text": [
      "--------------------------------------------------\n",
      "Data shape after handling missing values: (151112, 11)\n"
     ]
    }
   ],
   "source": [
    "# reload the module to ensure the latest changes are reflected\n",
    "reload(src.data_preprocessing.Preprocessor) \n",
    "# Handling missing values\n",
    "print(50*\"-\")\n",
    "df_cleaned = preprocessor.handle_missing_values()\n",
    "print(f\"Data shape after handling missing values: {df_cleaned.shape}\")"
   ]
  },
  {
   "cell_type": "markdown",
   "id": "1367e855",
   "metadata": {},
   "source": [
    "### Data Cleaning "
   ]
  },
  {
   "cell_type": "code",
   "execution_count": 73,
   "id": "08370263",
   "metadata": {},
   "outputs": [
    {
     "name": "stdout",
     "output_type": "stream",
     "text": [
      "--------------------------------------------------\n",
      "Data shape after removing duplicates: (151112, 11)\n"
     ]
    }
   ],
   "source": [
    "# removing duplicates\n",
    "print(50*\"-\")\n",
    "df_cleaned = preprocessor.remove_duplicates()\n",
    "print(f\"Data shape after removing duplicates: {df_cleaned.shape}\")"
   ]
  },
  {
   "cell_type": "code",
   "execution_count": 74,
   "id": "7e021c9d",
   "metadata": {},
   "outputs": [
    {
     "name": "stdout",
     "output_type": "stream",
     "text": [
      "--------------------------------------------------\n",
      "Data types after correction:\n",
      "user_id                    int64\n",
      "signup_time       datetime64[ns]\n",
      "purchase_time     datetime64[ns]\n",
      "purchase_value             int64\n",
      "device_id                 object\n",
      "source                    object\n",
      "browser                   object\n",
      "sex                       object\n",
      "age                        int64\n",
      "ip_address               float64\n",
      "class                      int64\n",
      "dtype: object\n"
     ]
    }
   ],
   "source": [
    "# correct the data types\n",
    "print(50*\"-\")\n",
    "df_cleaned = preprocessor.correct_data_types()\n",
    "print(f\"Data types after correction:\\n{df_cleaned.dtypes}\")"
   ]
  }
 ],
 "metadata": {
  "kernelspec": {
   "display_name": ".venv",
   "language": "python",
   "name": "python3"
  },
  "language_info": {
   "codemirror_mode": {
    "name": "ipython",
    "version": 3
   },
   "file_extension": ".py",
   "mimetype": "text/x-python",
   "name": "python",
   "nbconvert_exporter": "python",
   "pygments_lexer": "ipython3",
   "version": "3.13.3"
  }
 },
 "nbformat": 4,
 "nbformat_minor": 5
}
