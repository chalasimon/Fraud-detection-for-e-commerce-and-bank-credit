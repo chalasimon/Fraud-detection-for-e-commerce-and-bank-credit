{
 "cells": [
  {
   "cell_type": "markdown",
   "id": "674f55df",
   "metadata": {},
   "source": [
    "# Task 2: Model Building"
   ]
  },
  {
   "cell_type": "code",
   "execution_count": 2,
   "id": "70a238b1",
   "metadata": {},
   "outputs": [],
   "source": [
    "# Importing the necessary libraries\n",
    "import os\n",
    "import sys\n",
    "import pandas as pd\n",
    "from glob import glob\n",
    "from pathlib import Path"
   ]
  },
  {
   "cell_type": "code",
   "execution_count": 3,
   "id": "f8a3c99e",
   "metadata": {},
   "outputs": [],
   "source": [
    "# add the project root to the python path\n",
    "project_root =  Path(\"..\").resolve()\n",
    "if str(project_root) not in sys.path:\n",
    "    sys.path.insert(0, str(project_root))"
   ]
  },
  {
   "cell_type": "markdown",
   "id": "f1538979",
   "metadata": {},
   "source": [
    "### Loading the Dataset"
   ]
  },
  {
   "cell_type": "code",
   "execution_count": 4,
   "id": "38d7f9f1",
   "metadata": {},
   "outputs": [
    {
     "data": {
      "text/plain": [
       "<module 'src.utils.data_loader' from '/media/chalasimon/7C24016B240129AA/Research & Project/10academy/week 8/challenge/Fraud-detection-for-e-commerce-and-bank-credit/src/utils/data_loader.py'>"
      ]
     },
     "execution_count": 4,
     "metadata": {},
     "output_type": "execute_result"
    }
   ],
   "source": [
    "# import functions from the utils module\n",
    "from src.utils.data_loader import load_data\n",
    "from importlib import reload\n",
    "import src.utils.data_loader\n",
    "reload(src.utils.data_loader)"
   ]
  },
  {
   "cell_type": "code",
   "execution_count": 5,
   "id": "6886cb2a",
   "metadata": {},
   "outputs": [],
   "source": [
    "fraud_data_path = \"../data/processed/final_fraud_data.csv\"\n",
    "credit_data_path=\"../data/raw/creditcard.csv\"\n",
    "fraud_df = load_data(fraud_data_path)\n",
    "credit_df=load_data(credit_data_path)"
   ]
  },
  {
   "cell_type": "code",
   "execution_count": 6,
   "id": "daa37a69",
   "metadata": {},
   "outputs": [
    {
     "name": "stdout",
     "output_type": "stream",
     "text": [
      "Fraud data shape: (151112, 203)\n",
      "Credit data shape: (284807, 31)\n"
     ]
    }
   ],
   "source": [
    "print(f\"Fraud data shape: {fraud_df.shape}\")\n",
    "print(f\"Credit data shape: {credit_df.shape}\")"
   ]
  }
 ],
 "metadata": {
  "kernelspec": {
   "display_name": ".venv",
   "language": "python",
   "name": "python3"
  },
  "language_info": {
   "codemirror_mode": {
    "name": "ipython",
    "version": 3
   },
   "file_extension": ".py",
   "mimetype": "text/x-python",
   "name": "python",
   "nbconvert_exporter": "python",
   "pygments_lexer": "ipython3",
   "version": "3.12.3"
  }
 },
 "nbformat": 4,
 "nbformat_minor": 5
}
