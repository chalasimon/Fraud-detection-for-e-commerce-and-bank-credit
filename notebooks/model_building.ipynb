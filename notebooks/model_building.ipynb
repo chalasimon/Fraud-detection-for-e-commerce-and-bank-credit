{
 "cells": [
  {
   "cell_type": "markdown",
   "id": "674f55df",
   "metadata": {},
   "source": [
    "# Task 2: Model Building"
   ]
  },
  {
   "cell_type": "code",
   "execution_count": null,
   "id": "70a238b1",
   "metadata": {
    "vscode": {
     "languageId": "plaintext"
    }
   },
   "outputs": [],
   "source": []
  }
 ],
 "metadata": {
  "language_info": {
   "name": "python"
  }
 },
 "nbformat": 4,
 "nbformat_minor": 5
}
